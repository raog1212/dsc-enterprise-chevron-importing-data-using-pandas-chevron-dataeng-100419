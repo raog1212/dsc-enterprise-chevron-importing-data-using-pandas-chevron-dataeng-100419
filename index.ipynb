{
 "cells": [
  {
   "cell_type": "markdown",
   "metadata": {},
   "source": [
    "# Importing Data Using Pandas\n",
    "\n",
    "## Introduction\n",
    "\n",
    "Pandas is a popular library for efficiently wrangling data. It is particularly optimized to work with two-dimensional tabular data that is organized in rows and columns. In this lesson, you will learn how to import tabular data as a Pandas DataFrame object, how to access and manipulate the data in DataFrame objects, and how to export DataFrames to some common file formats. \n",
    "\n",
    "For more information on Pandas, refer to https://pandas.pydata.org/pandas-docs/stable/ .\n",
    "\n",
    "## Objectives\n",
    "You will be able to:  \n",
    "- Use pandas to import data from a CSV and and an Excel  spreadsheet  \n",
    "- Use pandas to export a DataFrame to a file\n",
    "\n",
    "## Loading Pandas\n",
    "\n",
    "When importing Pandas, it is standard to import it under the alias `pd`"
   ]
  },
  {
   "cell_type": "code",
   "execution_count": 1,
   "metadata": {},
   "outputs": [],
   "source": [
    "import pandas as pd"
   ]
  },
  {
   "cell_type": "markdown",
   "metadata": {},
   "source": [
    "## Importing Data\n",
    "\n",
    "There are a few main functions for importing data into a Pandas DataFrame including:\n",
    "\n",
    "* `pd.read_csv()`\n",
    "* `pd.read_excel()`\n",
    "* `pd.read_json()`\n",
    "* `pd.DataFrame.from_dict()`\n",
    "\n",
    "Most of these functions are fairly straightforward; you use `read_csv()` for csv files, `read_excel()` for excel files (both new and old `.xlx` and `.xlsx` formats), and `read_json()` for json files. That said, there are a few nuances you should know about. The first is that the `read_csv()` format can be used for any plain-text delimited file. This may include (but is not limited to) pipe (|) delimited files (`.psv`) and tab separated files (`.tsv`).\n",
    "\n",
    "Let's look at an example by investigating a file, `'bp.txt'`, stored in the `Data` folder."
   ]
  },
  {
   "cell_type": "code",
   "execution_count": 5,
   "metadata": {},
   "outputs": [],
   "source": [
    "# Import 'bp.txt' file\n",
    "df = pd.read_csv('Data/bp.txt', delimiter='\\t')"
   ]
  },
  {
   "cell_type": "markdown",
   "metadata": {},
   "source": [
    "We've now loaded the data from a file into a DataFrame. To investigate the DataFrame, we can use a method called `.head(n)` or `.tail(n)`, which will respectively return first and last __n__ items in the DataFrame."
   ]
  },
  {
   "cell_type": "code",
   "execution_count": 3,
   "metadata": {},
   "outputs": [
    {
     "data": {
      "text/html": [
       "<div>\n",
       "<style scoped>\n",
       "    .dataframe tbody tr th:only-of-type {\n",
       "        vertical-align: middle;\n",
       "    }\n",
       "\n",
       "    .dataframe tbody tr th {\n",
       "        vertical-align: top;\n",
       "    }\n",
       "\n",
       "    .dataframe thead th {\n",
       "        text-align: right;\n",
       "    }\n",
       "</style>\n",
       "<table border=\"1\" class=\"dataframe\">\n",
       "  <thead>\n",
       "    <tr style=\"text-align: right;\">\n",
       "      <th></th>\n",
       "      <th>Pt</th>\n",
       "      <th>BP</th>\n",
       "      <th>Age</th>\n",
       "      <th>Weight</th>\n",
       "      <th>BSA</th>\n",
       "      <th>Dur</th>\n",
       "      <th>Pulse</th>\n",
       "      <th>Stress</th>\n",
       "    </tr>\n",
       "  </thead>\n",
       "  <tbody>\n",
       "    <tr>\n",
       "      <th>0</th>\n",
       "      <td>1</td>\n",
       "      <td>105</td>\n",
       "      <td>47</td>\n",
       "      <td>85.4</td>\n",
       "      <td>1.75</td>\n",
       "      <td>5.1</td>\n",
       "      <td>63</td>\n",
       "      <td>33</td>\n",
       "    </tr>\n",
       "    <tr>\n",
       "      <th>1</th>\n",
       "      <td>2</td>\n",
       "      <td>115</td>\n",
       "      <td>49</td>\n",
       "      <td>94.2</td>\n",
       "      <td>2.10</td>\n",
       "      <td>3.8</td>\n",
       "      <td>70</td>\n",
       "      <td>14</td>\n",
       "    </tr>\n",
       "    <tr>\n",
       "      <th>2</th>\n",
       "      <td>3</td>\n",
       "      <td>116</td>\n",
       "      <td>49</td>\n",
       "      <td>95.3</td>\n",
       "      <td>1.98</td>\n",
       "      <td>8.2</td>\n",
       "      <td>72</td>\n",
       "      <td>10</td>\n",
       "    </tr>\n",
       "  </tbody>\n",
       "</table>\n",
       "</div>"
      ],
      "text/plain": [
       "   Pt   BP  Age  Weight   BSA  Dur  Pulse  Stress\n",
       "0   1  105   47    85.4  1.75  5.1     63      33\n",
       "1   2  115   49    94.2  2.10  3.8     70      14\n",
       "2   3  116   49    95.3  1.98  8.2     72      10"
      ]
     },
     "execution_count": 3,
     "metadata": {},
     "output_type": "execute_result"
    }
   ],
   "source": [
    "# Look at the first 3 rows\n",
    "df.head(3)"
   ]
  },
  {
   "cell_type": "code",
   "execution_count": 4,
   "metadata": {},
   "outputs": [
    {
     "data": {
      "text/html": [
       "<div>\n",
       "<style scoped>\n",
       "    .dataframe tbody tr th:only-of-type {\n",
       "        vertical-align: middle;\n",
       "    }\n",
       "\n",
       "    .dataframe tbody tr th {\n",
       "        vertical-align: top;\n",
       "    }\n",
       "\n",
       "    .dataframe thead th {\n",
       "        text-align: right;\n",
       "    }\n",
       "</style>\n",
       "<table border=\"1\" class=\"dataframe\">\n",
       "  <thead>\n",
       "    <tr style=\"text-align: right;\">\n",
       "      <th></th>\n",
       "      <th>Pt</th>\n",
       "      <th>BP</th>\n",
       "      <th>Age</th>\n",
       "      <th>Weight</th>\n",
       "      <th>BSA</th>\n",
       "      <th>Dur</th>\n",
       "      <th>Pulse</th>\n",
       "      <th>Stress</th>\n",
       "    </tr>\n",
       "  </thead>\n",
       "  <tbody>\n",
       "    <tr>\n",
       "      <th>16</th>\n",
       "      <td>17</td>\n",
       "      <td>106</td>\n",
       "      <td>46</td>\n",
       "      <td>87.0</td>\n",
       "      <td>1.87</td>\n",
       "      <td>3.6</td>\n",
       "      <td>62</td>\n",
       "      <td>18</td>\n",
       "    </tr>\n",
       "    <tr>\n",
       "      <th>17</th>\n",
       "      <td>18</td>\n",
       "      <td>113</td>\n",
       "      <td>46</td>\n",
       "      <td>94.5</td>\n",
       "      <td>1.90</td>\n",
       "      <td>4.3</td>\n",
       "      <td>70</td>\n",
       "      <td>12</td>\n",
       "    </tr>\n",
       "    <tr>\n",
       "      <th>18</th>\n",
       "      <td>19</td>\n",
       "      <td>110</td>\n",
       "      <td>48</td>\n",
       "      <td>90.5</td>\n",
       "      <td>1.88</td>\n",
       "      <td>9.0</td>\n",
       "      <td>71</td>\n",
       "      <td>99</td>\n",
       "    </tr>\n",
       "    <tr>\n",
       "      <th>19</th>\n",
       "      <td>20</td>\n",
       "      <td>122</td>\n",
       "      <td>56</td>\n",
       "      <td>95.7</td>\n",
       "      <td>2.09</td>\n",
       "      <td>7.0</td>\n",
       "      <td>75</td>\n",
       "      <td>99</td>\n",
       "    </tr>\n",
       "  </tbody>\n",
       "</table>\n",
       "</div>"
      ],
      "text/plain": [
       "    Pt   BP  Age  Weight   BSA  Dur  Pulse  Stress\n",
       "16  17  106   46    87.0  1.87  3.6     62      18\n",
       "17  18  113   46    94.5  1.90  4.3     70      12\n",
       "18  19  110   48    90.5  1.88  9.0     71      99\n",
       "19  20  122   56    95.7  2.09  7.0     75      99"
      ]
     },
     "execution_count": 4,
     "metadata": {},
     "output_type": "execute_result"
    }
   ],
   "source": [
    "# Look at the last 4 rows\n",
    "df.tail(4)"
   ]
  },
  {
   "cell_type": "markdown",
   "metadata": {},
   "source": [
    "This example shows that the data was tab delimited (`\\t`), so an appropriate file extension could have also been `.tsv`. Once we've loaded the dataset, we can export it to any format we would like with the related methods:\n",
    "\n",
    "* `df.to_csv()`\n",
    "* `df.to_excel()`\n",
    "* `df.to_json()`\n",
    "* `df.to_dict()`\n",
    "\n",
    "There are also several other options available, but these are the most common.\n",
    "\n",
    "## Skipping and Limiting Rows\n",
    "\n",
    "Another feature that you may have to employ is skipping rows when there is metadata stored at the top of a file. You can do this using the optional parameter `skiprows`. Similarly, if you want to only load a portion of a large file as an initial preview, you can use the `nrows` parameter."
   ]
  },
  {
   "cell_type": "code",
   "execution_count": 17,
   "metadata": {},
   "outputs": [
    {
     "data": {
      "text/plain": [
       "pandas.core.frame.DataFrame"
      ]
     },
     "execution_count": 17,
     "metadata": {},
     "output_type": "execute_result"
    }
   ],
   "source": [
    "# Import the first 100 rows of 'ACS_16_5YR_B24011_with_ann.csv' file\n",
    "df = pd.read_csv('Data/ACS_16_5YR_B24011_with_ann.csv', nrows=100)\n",
    "\n",
    "# Look at the first five rows\n",
    "#df.head()\n",
    "s=df.iloc[0:2,0:2]\n",
    "type(s)"
   ]
  },
  {
   "cell_type": "code",
   "execution_count": null,
   "metadata": {},
   "outputs": [],
   "source": [
    "### Notice the first row is descriptions of the variables"
   ]
  },
  {
   "cell_type": "markdown",
   "metadata": {},
   "source": [
    "We could manually remove:"
   ]
  },
  {
   "cell_type": "code",
   "execution_count": 18,
   "metadata": {},
   "outputs": [
    {
     "data": {
      "text/plain": [
       "pandas.core.frame.DataFrame"
      ]
     },
     "execution_count": 18,
     "metadata": {},
     "output_type": "execute_result"
    }
   ],
   "source": [
    "# Delete the first row\n",
    "df = df.drop(0)\n",
    "df.head(2)\n",
    "type(df)"
   ]
  },
  {
   "cell_type": "markdown",
   "metadata": {},
   "source": [
    "Or if we knew from the start, we could use the skiprows argument:"
   ]
  },
  {
   "cell_type": "code",
   "execution_count": 21,
   "metadata": {},
   "outputs": [
    {
     "data": {
      "text/html": [
       "<div>\n",
       "<style scoped>\n",
       "    .dataframe tbody tr th:only-of-type {\n",
       "        vertical-align: middle;\n",
       "    }\n",
       "\n",
       "    .dataframe tbody tr th {\n",
       "        vertical-align: top;\n",
       "    }\n",
       "\n",
       "    .dataframe thead th {\n",
       "        text-align: right;\n",
       "    }\n",
       "</style>\n",
       "<table border=\"1\" class=\"dataframe\">\n",
       "  <thead>\n",
       "    <tr style=\"text-align: right;\">\n",
       "      <th></th>\n",
       "      <th>0500000US01001</th>\n",
       "      <th>01001</th>\n",
       "      <th>Autauga County, Alabama</th>\n",
       "      <th>33267</th>\n",
       "      <th>2306</th>\n",
       "      <th>48819</th>\n",
       "      <th>1806</th>\n",
       "      <th>55557</th>\n",
       "      <th>4972</th>\n",
       "      <th>63333</th>\n",
       "      <th>...</th>\n",
       "      <th>31402</th>\n",
       "      <th>5135</th>\n",
       "      <th>35594</th>\n",
       "      <th>3034</th>\n",
       "      <th>36059</th>\n",
       "      <th>3893</th>\n",
       "      <th>47266</th>\n",
       "      <th>13608</th>\n",
       "      <th>19076</th>\n",
       "      <th>4808</th>\n",
       "    </tr>\n",
       "  </thead>\n",
       "  <tbody>\n",
       "    <tr>\n",
       "      <td>0</td>\n",
       "      <td>0500000US01003</td>\n",
       "      <td>1003</td>\n",
       "      <td>Baldwin County, Alabama</td>\n",
       "      <td>31540</td>\n",
       "      <td>683</td>\n",
       "      <td>49524</td>\n",
       "      <td>1811</td>\n",
       "      <td>57150</td>\n",
       "      <td>6980</td>\n",
       "      <td>63422</td>\n",
       "      <td>...</td>\n",
       "      <td>35603</td>\n",
       "      <td>3882</td>\n",
       "      <td>30549</td>\n",
       "      <td>1606</td>\n",
       "      <td>29604</td>\n",
       "      <td>4554</td>\n",
       "      <td>35504</td>\n",
       "      <td>6260</td>\n",
       "      <td>24182</td>\n",
       "      <td>3580</td>\n",
       "    </tr>\n",
       "    <tr>\n",
       "      <td>1</td>\n",
       "      <td>0500000US01005</td>\n",
       "      <td>1005</td>\n",
       "      <td>Barbour County, Alabama</td>\n",
       "      <td>26575</td>\n",
       "      <td>1653</td>\n",
       "      <td>41652</td>\n",
       "      <td>2638</td>\n",
       "      <td>51797</td>\n",
       "      <td>5980</td>\n",
       "      <td>52775</td>\n",
       "      <td>...</td>\n",
       "      <td>37847</td>\n",
       "      <td>11189</td>\n",
       "      <td>26094</td>\n",
       "      <td>4884</td>\n",
       "      <td>25339</td>\n",
       "      <td>4900</td>\n",
       "      <td>37282</td>\n",
       "      <td>6017</td>\n",
       "      <td>16607</td>\n",
       "      <td>3497</td>\n",
       "    </tr>\n",
       "  </tbody>\n",
       "</table>\n",
       "<p>2 rows × 75 columns</p>\n",
       "</div>"
      ],
      "text/plain": [
       "   0500000US01001  01001  Autauga County, Alabama  33267  2306  48819  1806  \\\n",
       "0  0500000US01003   1003  Baldwin County, Alabama  31540   683  49524  1811   \n",
       "1  0500000US01005   1005  Barbour County, Alabama  26575  1653  41652  2638   \n",
       "\n",
       "   55557  4972  63333  ...  31402   5135  35594  3034  36059  3893  47266  \\\n",
       "0  57150  6980  63422  ...  35603   3882  30549  1606  29604  4554  35504   \n",
       "1  51797  5980  52775  ...  37847  11189  26094  4884  25339  4900  37282   \n",
       "\n",
       "   13608  19076  4808  \n",
       "0   6260  24182  3580  \n",
       "1   6017  16607  3497  \n",
       "\n",
       "[2 rows x 75 columns]"
      ]
     },
     "execution_count": 21,
     "metadata": {},
     "output_type": "execute_result"
    }
   ],
   "source": [
    "# Import the first 100 rows of 'ACS_16_5YR_B24011_with_ann.csv' file while skipping the first row\n",
    "df = pd.read_csv('Data/ACS_16_5YR_B24011_with_ann.csv', skiprows=2, nrows=2)\n",
    "df.head()"
   ]
  },
  {
   "cell_type": "markdown",
   "metadata": {},
   "source": [
    "## Header\n",
    "\n",
    "Related to `skiprows` is the `header` parameter. This specifies the row where column names are and starts importing data from that point:"
   ]
  },
  {
   "cell_type": "code",
   "execution_count": 22,
   "metadata": {
    "scrolled": true
   },
   "outputs": [
    {
     "ename": "UnicodeDecodeError",
     "evalue": "'utf-8' codec can't decode byte 0xf1 in position 2: invalid continuation byte",
     "output_type": "error",
     "traceback": [
      "\u001b[0;31m\u001b[0m",
      "\u001b[0;31mUnicodeDecodeError\u001b[0mTraceback (most recent call last)",
      "\u001b[0;32mpandas/_libs/parsers.pyx\u001b[0m in \u001b[0;36mpandas._libs.parsers.TextReader._convert_tokens\u001b[0;34m()\u001b[0m\n",
      "\u001b[0;32mpandas/_libs/parsers.pyx\u001b[0m in \u001b[0;36mpandas._libs.parsers.TextReader._convert_with_dtype\u001b[0;34m()\u001b[0m\n",
      "\u001b[0;32mpandas/_libs/parsers.pyx\u001b[0m in \u001b[0;36mpandas._libs.parsers.TextReader._string_convert\u001b[0;34m()\u001b[0m\n",
      "\u001b[0;32mpandas/_libs/parsers.pyx\u001b[0m in \u001b[0;36mpandas._libs.parsers._string_box_utf8\u001b[0;34m()\u001b[0m\n",
      "\u001b[0;31mUnicodeDecodeError\u001b[0m: 'utf-8' codec can't decode byte 0xf1 in position 2: invalid continuation byte",
      "\nDuring handling of the above exception, another exception occurred:\n",
      "\u001b[0;31mUnicodeDecodeError\u001b[0mTraceback (most recent call last)",
      "\u001b[0;32m<ipython-input-22-1634517f4235>\u001b[0m in \u001b[0;36m<module>\u001b[0;34m\u001b[0m\n\u001b[1;32m      1\u001b[0m \u001b[0;31m# Look at the error output once you run this cell. What type of error is it?\u001b[0m\u001b[0;34m\u001b[0m\u001b[0;34m\u001b[0m\u001b[0;34m\u001b[0m\u001b[0m\n\u001b[0;32m----> 2\u001b[0;31m \u001b[0mdf\u001b[0m \u001b[0;34m=\u001b[0m \u001b[0mpd\u001b[0m\u001b[0;34m.\u001b[0m\u001b[0mread_csv\u001b[0m\u001b[0;34m(\u001b[0m\u001b[0;34m'Data/ACS_16_5YR_B24011_with_ann.csv'\u001b[0m\u001b[0;34m,\u001b[0m \u001b[0mheader\u001b[0m\u001b[0;34m=\u001b[0m\u001b[0;36m1\u001b[0m\u001b[0;34m)\u001b[0m\u001b[0;34m\u001b[0m\u001b[0;34m\u001b[0m\u001b[0m\n\u001b[0m\u001b[1;32m      3\u001b[0m \u001b[0mdf\u001b[0m\u001b[0;34m.\u001b[0m\u001b[0mhead\u001b[0m\u001b[0;34m(\u001b[0m\u001b[0;34m)\u001b[0m\u001b[0;34m\u001b[0m\u001b[0;34m\u001b[0m\u001b[0m\n",
      "\u001b[0;32m/opt/conda/envs/learn-env/lib/python3.6/site-packages/pandas/io/parsers.py\u001b[0m in \u001b[0;36mparser_f\u001b[0;34m(filepath_or_buffer, sep, delimiter, header, names, index_col, usecols, squeeze, prefix, mangle_dupe_cols, dtype, engine, converters, true_values, false_values, skipinitialspace, skiprows, skipfooter, nrows, na_values, keep_default_na, na_filter, verbose, skip_blank_lines, parse_dates, infer_datetime_format, keep_date_col, date_parser, dayfirst, cache_dates, iterator, chunksize, compression, thousands, decimal, lineterminator, quotechar, quoting, doublequote, escapechar, comment, encoding, dialect, error_bad_lines, warn_bad_lines, delim_whitespace, low_memory, memory_map, float_precision)\u001b[0m\n\u001b[1;32m    683\u001b[0m         )\n\u001b[1;32m    684\u001b[0m \u001b[0;34m\u001b[0m\u001b[0m\n\u001b[0;32m--> 685\u001b[0;31m         \u001b[0;32mreturn\u001b[0m \u001b[0m_read\u001b[0m\u001b[0;34m(\u001b[0m\u001b[0mfilepath_or_buffer\u001b[0m\u001b[0;34m,\u001b[0m \u001b[0mkwds\u001b[0m\u001b[0;34m)\u001b[0m\u001b[0;34m\u001b[0m\u001b[0;34m\u001b[0m\u001b[0m\n\u001b[0m\u001b[1;32m    686\u001b[0m \u001b[0;34m\u001b[0m\u001b[0m\n\u001b[1;32m    687\u001b[0m     \u001b[0mparser_f\u001b[0m\u001b[0;34m.\u001b[0m\u001b[0m__name__\u001b[0m \u001b[0;34m=\u001b[0m \u001b[0mname\u001b[0m\u001b[0;34m\u001b[0m\u001b[0;34m\u001b[0m\u001b[0m\n",
      "\u001b[0;32m/opt/conda/envs/learn-env/lib/python3.6/site-packages/pandas/io/parsers.py\u001b[0m in \u001b[0;36m_read\u001b[0;34m(filepath_or_buffer, kwds)\u001b[0m\n\u001b[1;32m    461\u001b[0m \u001b[0;34m\u001b[0m\u001b[0m\n\u001b[1;32m    462\u001b[0m     \u001b[0;32mtry\u001b[0m\u001b[0;34m:\u001b[0m\u001b[0;34m\u001b[0m\u001b[0;34m\u001b[0m\u001b[0m\n\u001b[0;32m--> 463\u001b[0;31m         \u001b[0mdata\u001b[0m \u001b[0;34m=\u001b[0m \u001b[0mparser\u001b[0m\u001b[0;34m.\u001b[0m\u001b[0mread\u001b[0m\u001b[0;34m(\u001b[0m\u001b[0mnrows\u001b[0m\u001b[0;34m)\u001b[0m\u001b[0;34m\u001b[0m\u001b[0;34m\u001b[0m\u001b[0m\n\u001b[0m\u001b[1;32m    464\u001b[0m     \u001b[0;32mfinally\u001b[0m\u001b[0;34m:\u001b[0m\u001b[0;34m\u001b[0m\u001b[0;34m\u001b[0m\u001b[0m\n\u001b[1;32m    465\u001b[0m         \u001b[0mparser\u001b[0m\u001b[0;34m.\u001b[0m\u001b[0mclose\u001b[0m\u001b[0;34m(\u001b[0m\u001b[0;34m)\u001b[0m\u001b[0;34m\u001b[0m\u001b[0;34m\u001b[0m\u001b[0m\n",
      "\u001b[0;32m/opt/conda/envs/learn-env/lib/python3.6/site-packages/pandas/io/parsers.py\u001b[0m in \u001b[0;36mread\u001b[0;34m(self, nrows)\u001b[0m\n\u001b[1;32m   1152\u001b[0m     \u001b[0;32mdef\u001b[0m \u001b[0mread\u001b[0m\u001b[0;34m(\u001b[0m\u001b[0mself\u001b[0m\u001b[0;34m,\u001b[0m \u001b[0mnrows\u001b[0m\u001b[0;34m=\u001b[0m\u001b[0;32mNone\u001b[0m\u001b[0;34m)\u001b[0m\u001b[0;34m:\u001b[0m\u001b[0;34m\u001b[0m\u001b[0;34m\u001b[0m\u001b[0m\n\u001b[1;32m   1153\u001b[0m         \u001b[0mnrows\u001b[0m \u001b[0;34m=\u001b[0m \u001b[0m_validate_integer\u001b[0m\u001b[0;34m(\u001b[0m\u001b[0;34m\"nrows\"\u001b[0m\u001b[0;34m,\u001b[0m \u001b[0mnrows\u001b[0m\u001b[0;34m)\u001b[0m\u001b[0;34m\u001b[0m\u001b[0;34m\u001b[0m\u001b[0m\n\u001b[0;32m-> 1154\u001b[0;31m         \u001b[0mret\u001b[0m \u001b[0;34m=\u001b[0m \u001b[0mself\u001b[0m\u001b[0;34m.\u001b[0m\u001b[0m_engine\u001b[0m\u001b[0;34m.\u001b[0m\u001b[0mread\u001b[0m\u001b[0;34m(\u001b[0m\u001b[0mnrows\u001b[0m\u001b[0;34m)\u001b[0m\u001b[0;34m\u001b[0m\u001b[0;34m\u001b[0m\u001b[0m\n\u001b[0m\u001b[1;32m   1155\u001b[0m \u001b[0;34m\u001b[0m\u001b[0m\n\u001b[1;32m   1156\u001b[0m         \u001b[0;31m# May alter columns / col_dict\u001b[0m\u001b[0;34m\u001b[0m\u001b[0;34m\u001b[0m\u001b[0;34m\u001b[0m\u001b[0m\n",
      "\u001b[0;32m/opt/conda/envs/learn-env/lib/python3.6/site-packages/pandas/io/parsers.py\u001b[0m in \u001b[0;36mread\u001b[0;34m(self, nrows)\u001b[0m\n\u001b[1;32m   2057\u001b[0m     \u001b[0;32mdef\u001b[0m \u001b[0mread\u001b[0m\u001b[0;34m(\u001b[0m\u001b[0mself\u001b[0m\u001b[0;34m,\u001b[0m \u001b[0mnrows\u001b[0m\u001b[0;34m=\u001b[0m\u001b[0;32mNone\u001b[0m\u001b[0;34m)\u001b[0m\u001b[0;34m:\u001b[0m\u001b[0;34m\u001b[0m\u001b[0;34m\u001b[0m\u001b[0m\n\u001b[1;32m   2058\u001b[0m         \u001b[0;32mtry\u001b[0m\u001b[0;34m:\u001b[0m\u001b[0;34m\u001b[0m\u001b[0;34m\u001b[0m\u001b[0m\n\u001b[0;32m-> 2059\u001b[0;31m             \u001b[0mdata\u001b[0m \u001b[0;34m=\u001b[0m \u001b[0mself\u001b[0m\u001b[0;34m.\u001b[0m\u001b[0m_reader\u001b[0m\u001b[0;34m.\u001b[0m\u001b[0mread\u001b[0m\u001b[0;34m(\u001b[0m\u001b[0mnrows\u001b[0m\u001b[0;34m)\u001b[0m\u001b[0;34m\u001b[0m\u001b[0;34m\u001b[0m\u001b[0m\n\u001b[0m\u001b[1;32m   2060\u001b[0m         \u001b[0;32mexcept\u001b[0m \u001b[0mStopIteration\u001b[0m\u001b[0;34m:\u001b[0m\u001b[0;34m\u001b[0m\u001b[0;34m\u001b[0m\u001b[0m\n\u001b[1;32m   2061\u001b[0m             \u001b[0;32mif\u001b[0m \u001b[0mself\u001b[0m\u001b[0;34m.\u001b[0m\u001b[0m_first_chunk\u001b[0m\u001b[0;34m:\u001b[0m\u001b[0;34m\u001b[0m\u001b[0;34m\u001b[0m\u001b[0m\n",
      "\u001b[0;32mpandas/_libs/parsers.pyx\u001b[0m in \u001b[0;36mpandas._libs.parsers.TextReader.read\u001b[0;34m()\u001b[0m\n",
      "\u001b[0;32mpandas/_libs/parsers.pyx\u001b[0m in \u001b[0;36mpandas._libs.parsers.TextReader._read_low_memory\u001b[0;34m()\u001b[0m\n",
      "\u001b[0;32mpandas/_libs/parsers.pyx\u001b[0m in \u001b[0;36mpandas._libs.parsers.TextReader._read_rows\u001b[0;34m()\u001b[0m\n",
      "\u001b[0;32mpandas/_libs/parsers.pyx\u001b[0m in \u001b[0;36mpandas._libs.parsers.TextReader._convert_column_data\u001b[0;34m()\u001b[0m\n",
      "\u001b[0;32mpandas/_libs/parsers.pyx\u001b[0m in \u001b[0;36mpandas._libs.parsers.TextReader._convert_tokens\u001b[0;34m()\u001b[0m\n",
      "\u001b[0;32mpandas/_libs/parsers.pyx\u001b[0m in \u001b[0;36mpandas._libs.parsers.TextReader._convert_with_dtype\u001b[0;34m()\u001b[0m\n",
      "\u001b[0;32mpandas/_libs/parsers.pyx\u001b[0m in \u001b[0;36mpandas._libs.parsers.TextReader._string_convert\u001b[0;34m()\u001b[0m\n",
      "\u001b[0;32mpandas/_libs/parsers.pyx\u001b[0m in \u001b[0;36mpandas._libs.parsers._string_box_utf8\u001b[0;34m()\u001b[0m\n",
      "\u001b[0;31mUnicodeDecodeError\u001b[0m: 'utf-8' codec can't decode byte 0xf1 in position 2: invalid continuation byte"
     ]
    }
   ],
   "source": [
    "# Look at the error output once you run this cell. What type of error is it?\n",
    "df = pd.read_csv('Data/ACS_16_5YR_B24011_with_ann.csv', header=1)\n",
    "df.head()"
   ]
  },
  {
   "cell_type": "markdown",
   "metadata": {},
   "source": [
    "## Encoding\n",
    "\n",
    "Encoding errors like the one above are always frustrating. This has to do with how the strings within the file itself are formatted. The most common encoding other than `utf-8` that you are likely to come across is `latin-1`."
   ]
  },
  {
   "cell_type": "code",
   "execution_count": 28,
   "metadata": {},
   "outputs": [
    {
     "data": {
      "text/html": [
       "<div>\n",
       "<style scoped>\n",
       "    .dataframe tbody tr th:only-of-type {\n",
       "        vertical-align: middle;\n",
       "    }\n",
       "\n",
       "    .dataframe tbody tr th {\n",
       "        vertical-align: top;\n",
       "    }\n",
       "\n",
       "    .dataframe thead th {\n",
       "        text-align: right;\n",
       "    }\n",
       "</style>\n",
       "<table border=\"1\" class=\"dataframe\">\n",
       "  <thead>\n",
       "    <tr style=\"text-align: right;\">\n",
       "      <th></th>\n",
       "      <th>0500000US01005</th>\n",
       "      <th>01005</th>\n",
       "      <th>Barbour County, Alabama</th>\n",
       "      <th>26575</th>\n",
       "      <th>1653</th>\n",
       "      <th>41652</th>\n",
       "      <th>2638</th>\n",
       "      <th>51797</th>\n",
       "      <th>5980</th>\n",
       "      <th>52775</th>\n",
       "      <th>...</th>\n",
       "      <th>37847</th>\n",
       "      <th>11189</th>\n",
       "      <th>26094</th>\n",
       "      <th>4884</th>\n",
       "      <th>25339</th>\n",
       "      <th>4900</th>\n",
       "      <th>37282</th>\n",
       "      <th>6017</th>\n",
       "      <th>16607</th>\n",
       "      <th>3497</th>\n",
       "    </tr>\n",
       "  </thead>\n",
       "  <tbody>\n",
       "    <tr>\n",
       "      <td>0</td>\n",
       "      <td>0500000US01007</td>\n",
       "      <td>1007</td>\n",
       "      <td>Bibb County, Alabama</td>\n",
       "      <td>30088</td>\n",
       "      <td>2224</td>\n",
       "      <td>40787</td>\n",
       "      <td>2896</td>\n",
       "      <td>50069</td>\n",
       "      <td>12841</td>\n",
       "      <td>67917</td>\n",
       "      <td>...</td>\n",
       "      <td>45952</td>\n",
       "      <td>5622</td>\n",
       "      <td>28983</td>\n",
       "      <td>3401</td>\n",
       "      <td>31881</td>\n",
       "      <td>2317</td>\n",
       "      <td>26580</td>\n",
       "      <td>2901</td>\n",
       "      <td>23479</td>\n",
       "      <td>4942</td>\n",
       "    </tr>\n",
       "    <tr>\n",
       "      <td>1</td>\n",
       "      <td>0500000US01009</td>\n",
       "      <td>1009</td>\n",
       "      <td>Blount County, Alabama</td>\n",
       "      <td>34900</td>\n",
       "      <td>2063</td>\n",
       "      <td>46593</td>\n",
       "      <td>2963</td>\n",
       "      <td>47003</td>\n",
       "      <td>6189</td>\n",
       "      <td>50991</td>\n",
       "      <td>...</td>\n",
       "      <td>42489</td>\n",
       "      <td>7176</td>\n",
       "      <td>32969</td>\n",
       "      <td>3767</td>\n",
       "      <td>31814</td>\n",
       "      <td>4551</td>\n",
       "      <td>41375</td>\n",
       "      <td>5280</td>\n",
       "      <td>26755</td>\n",
       "      <td>2963</td>\n",
       "    </tr>\n",
       "    <tr>\n",
       "      <td>2</td>\n",
       "      <td>0500000US01011</td>\n",
       "      <td>1011</td>\n",
       "      <td>Bullock County, Alabama</td>\n",
       "      <td>23998</td>\n",
       "      <td>3240</td>\n",
       "      <td>39091</td>\n",
       "      <td>7597</td>\n",
       "      <td>40934</td>\n",
       "      <td>2957</td>\n",
       "      <td>40404</td>\n",
       "      <td>...</td>\n",
       "      <td>7375</td>\n",
       "      <td>63922</td>\n",
       "      <td>25713</td>\n",
       "      <td>3352</td>\n",
       "      <td>23531</td>\n",
       "      <td>5706</td>\n",
       "      <td>31141</td>\n",
       "      <td>812</td>\n",
       "      <td>25380</td>\n",
       "      <td>6312</td>\n",
       "    </tr>\n",
       "    <tr>\n",
       "      <td>3</td>\n",
       "      <td>0500000US01013</td>\n",
       "      <td>1013</td>\n",
       "      <td>Butler County, Alabama</td>\n",
       "      <td>27434</td>\n",
       "      <td>1994</td>\n",
       "      <td>42161</td>\n",
       "      <td>2426</td>\n",
       "      <td>42391</td>\n",
       "      <td>4933</td>\n",
       "      <td>42679</td>\n",
       "      <td>...</td>\n",
       "      <td>33750</td>\n",
       "      <td>10894</td>\n",
       "      <td>28325</td>\n",
       "      <td>3165</td>\n",
       "      <td>28052</td>\n",
       "      <td>5498</td>\n",
       "      <td>31875</td>\n",
       "      <td>8159</td>\n",
       "      <td>26534</td>\n",
       "      <td>1235</td>\n",
       "    </tr>\n",
       "    <tr>\n",
       "      <td>4</td>\n",
       "      <td>0500000US01015</td>\n",
       "      <td>1015</td>\n",
       "      <td>Calhoun County, Alabama</td>\n",
       "      <td>28183</td>\n",
       "      <td>1501</td>\n",
       "      <td>41933</td>\n",
       "      <td>1225</td>\n",
       "      <td>50217</td>\n",
       "      <td>6332</td>\n",
       "      <td>51559</td>\n",
       "      <td>...</td>\n",
       "      <td>41326</td>\n",
       "      <td>3530</td>\n",
       "      <td>30350</td>\n",
       "      <td>1339</td>\n",
       "      <td>31070</td>\n",
       "      <td>1923</td>\n",
       "      <td>33767</td>\n",
       "      <td>4428</td>\n",
       "      <td>23595</td>\n",
       "      <td>4747</td>\n",
       "    </tr>\n",
       "  </tbody>\n",
       "</table>\n",
       "<p>5 rows × 75 columns</p>\n",
       "</div>"
      ],
      "text/plain": [
       "   0500000US01005  01005  Barbour County, Alabama  26575  1653  41652  2638  \\\n",
       "0  0500000US01007   1007     Bibb County, Alabama  30088  2224  40787  2896   \n",
       "1  0500000US01009   1009   Blount County, Alabama  34900  2063  46593  2963   \n",
       "2  0500000US01011   1011  Bullock County, Alabama  23998  3240  39091  7597   \n",
       "3  0500000US01013   1013   Butler County, Alabama  27434  1994  42161  2426   \n",
       "4  0500000US01015   1015  Calhoun County, Alabama  28183  1501  41933  1225   \n",
       "\n",
       "   51797   5980  52775  ...  37847  11189  26094  4884  25339  4900  37282  \\\n",
       "0  50069  12841  67917  ...  45952   5622  28983  3401  31881  2317  26580   \n",
       "1  47003   6189  50991  ...  42489   7176  32969  3767  31814  4551  41375   \n",
       "2  40934   2957  40404  ...   7375  63922  25713  3352  23531  5706  31141   \n",
       "3  42391   4933  42679  ...  33750  10894  28325  3165  28052  5498  31875   \n",
       "4  50217   6332  51559  ...  41326   3530  30350  1339  31070  1923  33767   \n",
       "\n",
       "   6017  16607  3497  \n",
       "0  2901  23479  4942  \n",
       "1  5280  26755  2963  \n",
       "2   812  25380  6312  \n",
       "3  8159  26534  1235  \n",
       "4  4428  23595  4747  \n",
       "\n",
       "[5 rows x 75 columns]"
      ]
     },
     "execution_count": 28,
     "metadata": {},
     "output_type": "execute_result"
    }
   ],
   "source": [
    "# Import the 'ACS_16_5YR_B24011_with_ann.csv' file using a proper encoding\n",
    "df = pd.read_csv('Data/ACS_16_5YR_B24011_with_ann.csv', header=4, encoding='latin-1')\n",
    "df.head()"
   ]
  },
  {
   "cell_type": "markdown",
   "metadata": {},
   "source": [
    "## Selecting Specific Columns  \n",
    "\n",
    "You can also select specific columns if you only want to load specific features."
   ]
  },
  {
   "cell_type": "code",
   "execution_count": 25,
   "metadata": {},
   "outputs": [
    {
     "data": {
      "text/html": [
       "<div>\n",
       "<style scoped>\n",
       "    .dataframe tbody tr th:only-of-type {\n",
       "        vertical-align: middle;\n",
       "    }\n",
       "\n",
       "    .dataframe tbody tr th {\n",
       "        vertical-align: top;\n",
       "    }\n",
       "\n",
       "    .dataframe thead th {\n",
       "        text-align: right;\n",
       "    }\n",
       "</style>\n",
       "<table border=\"1\" class=\"dataframe\">\n",
       "  <thead>\n",
       "    <tr style=\"text-align: right;\">\n",
       "      <th></th>\n",
       "      <th>GEO.id</th>\n",
       "      <th>GEO.id2</th>\n",
       "      <th>GEO.display-label</th>\n",
       "      <th>HD01_VD02</th>\n",
       "      <th>HD02_VD02</th>\n",
       "    </tr>\n",
       "  </thead>\n",
       "  <tbody>\n",
       "    <tr>\n",
       "      <td>0</td>\n",
       "      <td>Id</td>\n",
       "      <td>Id2</td>\n",
       "      <td>Geography</td>\n",
       "      <td>Estimate; Total: - Management, business, scien...</td>\n",
       "      <td>Margin of Error; Total: - Management, business...</td>\n",
       "    </tr>\n",
       "    <tr>\n",
       "      <td>1</td>\n",
       "      <td>0500000US01001</td>\n",
       "      <td>01001</td>\n",
       "      <td>Autauga County, Alabama</td>\n",
       "      <td>48819</td>\n",
       "      <td>1806</td>\n",
       "    </tr>\n",
       "    <tr>\n",
       "      <td>2</td>\n",
       "      <td>0500000US01003</td>\n",
       "      <td>01003</td>\n",
       "      <td>Baldwin County, Alabama</td>\n",
       "      <td>49524</td>\n",
       "      <td>1811</td>\n",
       "    </tr>\n",
       "    <tr>\n",
       "      <td>3</td>\n",
       "      <td>0500000US01005</td>\n",
       "      <td>01005</td>\n",
       "      <td>Barbour County, Alabama</td>\n",
       "      <td>41652</td>\n",
       "      <td>2638</td>\n",
       "    </tr>\n",
       "    <tr>\n",
       "      <td>4</td>\n",
       "      <td>0500000US01007</td>\n",
       "      <td>01007</td>\n",
       "      <td>Bibb County, Alabama</td>\n",
       "      <td>40787</td>\n",
       "      <td>2896</td>\n",
       "    </tr>\n",
       "    <tr>\n",
       "      <td>5</td>\n",
       "      <td>0500000US01009</td>\n",
       "      <td>01009</td>\n",
       "      <td>Blount County, Alabama</td>\n",
       "      <td>46593</td>\n",
       "      <td>2963</td>\n",
       "    </tr>\n",
       "    <tr>\n",
       "      <td>6</td>\n",
       "      <td>0500000US01011</td>\n",
       "      <td>01011</td>\n",
       "      <td>Bullock County, Alabama</td>\n",
       "      <td>39091</td>\n",
       "      <td>7597</td>\n",
       "    </tr>\n",
       "    <tr>\n",
       "      <td>7</td>\n",
       "      <td>0500000US01013</td>\n",
       "      <td>01013</td>\n",
       "      <td>Butler County, Alabama</td>\n",
       "      <td>42161</td>\n",
       "      <td>2426</td>\n",
       "    </tr>\n",
       "    <tr>\n",
       "      <td>8</td>\n",
       "      <td>0500000US01015</td>\n",
       "      <td>01015</td>\n",
       "      <td>Calhoun County, Alabama</td>\n",
       "      <td>41933</td>\n",
       "      <td>1225</td>\n",
       "    </tr>\n",
       "    <tr>\n",
       "      <td>9</td>\n",
       "      <td>0500000US01017</td>\n",
       "      <td>01017</td>\n",
       "      <td>Chambers County, Alabama</td>\n",
       "      <td>43218</td>\n",
       "      <td>2889</td>\n",
       "    </tr>\n",
       "  </tbody>\n",
       "</table>\n",
       "</div>"
      ],
      "text/plain": [
       "           GEO.id GEO.id2         GEO.display-label  \\\n",
       "0              Id     Id2                 Geography   \n",
       "1  0500000US01001   01001   Autauga County, Alabama   \n",
       "2  0500000US01003   01003   Baldwin County, Alabama   \n",
       "3  0500000US01005   01005   Barbour County, Alabama   \n",
       "4  0500000US01007   01007      Bibb County, Alabama   \n",
       "5  0500000US01009   01009    Blount County, Alabama   \n",
       "6  0500000US01011   01011   Bullock County, Alabama   \n",
       "7  0500000US01013   01013    Butler County, Alabama   \n",
       "8  0500000US01015   01015   Calhoun County, Alabama   \n",
       "9  0500000US01017   01017  Chambers County, Alabama   \n",
       "\n",
       "                                           HD01_VD02  \\\n",
       "0  Estimate; Total: - Management, business, scien...   \n",
       "1                                              48819   \n",
       "2                                              49524   \n",
       "3                                              41652   \n",
       "4                                              40787   \n",
       "5                                              46593   \n",
       "6                                              39091   \n",
       "7                                              42161   \n",
       "8                                              41933   \n",
       "9                                              43218   \n",
       "\n",
       "                                           HD02_VD02  \n",
       "0  Margin of Error; Total: - Management, business...  \n",
       "1                                               1806  \n",
       "2                                               1811  \n",
       "3                                               2638  \n",
       "4                                               2896  \n",
       "5                                               2963  \n",
       "6                                               7597  \n",
       "7                                               2426  \n",
       "8                                               1225  \n",
       "9                                               2889  "
      ]
     },
     "execution_count": 25,
     "metadata": {},
     "output_type": "execute_result"
    }
   ],
   "source": [
    "# Import the file with specific columns\n",
    "df = pd.read_csv('Data/ACS_16_5YR_B24011_with_ann.csv', \n",
    "                 usecols=[0, 1, 2, 5, 6], encoding='latin-1', nrows=10)\n",
    "df.head(15)"
   ]
  },
  {
   "cell_type": "markdown",
   "metadata": {},
   "source": [
    "**or**"
   ]
  },
  {
   "cell_type": "code",
   "execution_count": 11,
   "metadata": {},
   "outputs": [
    {
     "data": {
      "text/html": [
       "<div>\n",
       "<style scoped>\n",
       "    .dataframe tbody tr th:only-of-type {\n",
       "        vertical-align: middle;\n",
       "    }\n",
       "\n",
       "    .dataframe tbody tr th {\n",
       "        vertical-align: top;\n",
       "    }\n",
       "\n",
       "    .dataframe thead th {\n",
       "        text-align: right;\n",
       "    }\n",
       "</style>\n",
       "<table border=\"1\" class=\"dataframe\">\n",
       "  <thead>\n",
       "    <tr style=\"text-align: right;\">\n",
       "      <th></th>\n",
       "      <th>GEO.id</th>\n",
       "      <th>GEO.id2</th>\n",
       "    </tr>\n",
       "  </thead>\n",
       "  <tbody>\n",
       "    <tr>\n",
       "      <th>0</th>\n",
       "      <td>Id</td>\n",
       "      <td>Id2</td>\n",
       "    </tr>\n",
       "    <tr>\n",
       "      <th>1</th>\n",
       "      <td>0500000US01001</td>\n",
       "      <td>01001</td>\n",
       "    </tr>\n",
       "  </tbody>\n",
       "</table>\n",
       "</div>"
      ],
      "text/plain": [
       "           GEO.id GEO.id2\n",
       "0              Id     Id2\n",
       "1  0500000US01001   01001"
      ]
     },
     "execution_count": 11,
     "metadata": {},
     "output_type": "execute_result"
    }
   ],
   "source": [
    "# Import the file with specific columns\n",
    "df = pd.read_csv('Data/ACS_16_5YR_B24011_with_ann.csv', usecols=['GEO.id', 'GEO.id2'], encoding='latin-1')\n",
    "df.head(2)"
   ]
  },
  {
   "cell_type": "markdown",
   "metadata": {
    "collapsed": true
   },
   "source": [
    "## Selecting Specific Sheets\n",
    "You can also select specific sheets for Excel files! This can be done by index number. "
   ]
  },
  {
   "cell_type": "code",
   "execution_count": 66,
   "metadata": {},
   "outputs": [
    {
     "name": "stdout",
     "output_type": "stream",
     "text": [
      "2013-01-19\n"
     ]
    }
   ],
   "source": [
    "# Import an Excel file\n",
    "df1 = pd.read_excel('Data/Yelp_Selected_Businesses.xlsx', header=2, sheet_name='Biz_id_na4Th')\n",
    "df2 = pd.ExcelFile('Data/Yelp_Selected_Businesses.xlsx')\n",
    "df2.sheet_names\n",
    "s=df1[\"cool\"]\n",
    "type(s)\n",
    "s=(df1.iloc[1])\n",
    "s\n",
    "if s[1] == s[2]:\n",
    "    print (s[1])\n",
    "else:\n",
    "    print(s[2])"
   ]
  },
  {
   "cell_type": "code",
   "execution_count": 40,
   "metadata": {},
   "outputs": [
    {
     "ename": "AttributeError",
     "evalue": "'DataFrame' object has no attribute 'sheetname'",
     "output_type": "error",
     "traceback": [
      "\u001b[0;31m\u001b[0m",
      "\u001b[0;31mAttributeError\u001b[0mTraceback (most recent call last)",
      "\u001b[0;32m<ipython-input-40-b078a179bfe4>\u001b[0m in \u001b[0;36m<module>\u001b[0;34m\u001b[0m\n\u001b[1;32m      2\u001b[0m \u001b[0mdf2\u001b[0m \u001b[0;34m=\u001b[0m \u001b[0mpd\u001b[0m\u001b[0;34m.\u001b[0m\u001b[0mread_excel\u001b[0m\u001b[0;34m(\u001b[0m\u001b[0;34m'Data/Yelp_Selected_Businesses.xlsx'\u001b[0m\u001b[0;34m,\u001b[0m \u001b[0mheader\u001b[0m\u001b[0;34m=\u001b[0m\u001b[0;36m2\u001b[0m\u001b[0;34m)\u001b[0m\u001b[0;34m\u001b[0m\u001b[0;34m\u001b[0m\u001b[0m\n\u001b[1;32m      3\u001b[0m \u001b[0mdf2\u001b[0m\u001b[0;34m.\u001b[0m\u001b[0mhead\u001b[0m\u001b[0;34m(\u001b[0m\u001b[0;34m)\u001b[0m\u001b[0;34m\u001b[0m\u001b[0;34m\u001b[0m\u001b[0m\n\u001b[0;32m----> 4\u001b[0;31m \u001b[0mdf2\u001b[0m\u001b[0;34m.\u001b[0m\u001b[0msheetname\u001b[0m\u001b[0;34m\u001b[0m\u001b[0;34m\u001b[0m\u001b[0m\n\u001b[0m",
      "\u001b[0;32m/opt/conda/envs/learn-env/lib/python3.6/site-packages/pandas/core/generic.py\u001b[0m in \u001b[0;36m__getattr__\u001b[0;34m(self, name)\u001b[0m\n\u001b[1;32m   5177\u001b[0m             \u001b[0;32mif\u001b[0m \u001b[0mself\u001b[0m\u001b[0;34m.\u001b[0m\u001b[0m_info_axis\u001b[0m\u001b[0;34m.\u001b[0m\u001b[0m_can_hold_identifiers_and_holds_name\u001b[0m\u001b[0;34m(\u001b[0m\u001b[0mname\u001b[0m\u001b[0;34m)\u001b[0m\u001b[0;34m:\u001b[0m\u001b[0;34m\u001b[0m\u001b[0;34m\u001b[0m\u001b[0m\n\u001b[1;32m   5178\u001b[0m                 \u001b[0;32mreturn\u001b[0m \u001b[0mself\u001b[0m\u001b[0;34m[\u001b[0m\u001b[0mname\u001b[0m\u001b[0;34m]\u001b[0m\u001b[0;34m\u001b[0m\u001b[0;34m\u001b[0m\u001b[0m\n\u001b[0;32m-> 5179\u001b[0;31m             \u001b[0;32mreturn\u001b[0m \u001b[0mobject\u001b[0m\u001b[0;34m.\u001b[0m\u001b[0m__getattribute__\u001b[0m\u001b[0;34m(\u001b[0m\u001b[0mself\u001b[0m\u001b[0;34m,\u001b[0m \u001b[0mname\u001b[0m\u001b[0;34m)\u001b[0m\u001b[0;34m\u001b[0m\u001b[0;34m\u001b[0m\u001b[0m\n\u001b[0m\u001b[1;32m   5180\u001b[0m \u001b[0;34m\u001b[0m\u001b[0m\n\u001b[1;32m   5181\u001b[0m     \u001b[0;32mdef\u001b[0m \u001b[0m__setattr__\u001b[0m\u001b[0;34m(\u001b[0m\u001b[0mself\u001b[0m\u001b[0;34m,\u001b[0m \u001b[0mname\u001b[0m\u001b[0;34m,\u001b[0m \u001b[0mvalue\u001b[0m\u001b[0;34m)\u001b[0m\u001b[0;34m:\u001b[0m\u001b[0;34m\u001b[0m\u001b[0;34m\u001b[0m\u001b[0m\n",
      "\u001b[0;31mAttributeError\u001b[0m: 'DataFrame' object has no attribute 'sheetname'"
     ]
    }
   ],
   "source": [
    "# Import a specific sheet of an Excel file\n",
    "df2 = pd.read_excel('Data/Yelp_Selected_Businesses.xlsx', header=2)\n",
    "df2.head()\n"
   ]
  },
  {
   "cell_type": "markdown",
   "metadata": {},
   "source": [
    "Or the name of the sheet itself"
   ]
  },
  {
   "cell_type": "code",
   "execution_count": 42,
   "metadata": {},
   "outputs": [
    {
     "ename": "AttributeError",
     "evalue": "'DataFrame' object has no attribute 'sheet_names'",
     "output_type": "error",
     "traceback": [
      "\u001b[0;31m\u001b[0m",
      "\u001b[0;31mAttributeError\u001b[0mTraceback (most recent call last)",
      "\u001b[0;32m<ipython-input-42-ac6353ab6d94>\u001b[0m in \u001b[0;36m<module>\u001b[0;34m\u001b[0m\n\u001b[1;32m      2\u001b[0m \u001b[0mdf\u001b[0m \u001b[0;34m=\u001b[0m \u001b[0mpd\u001b[0m\u001b[0;34m.\u001b[0m\u001b[0mread_excel\u001b[0m\u001b[0;34m(\u001b[0m\u001b[0;34m'Data/Yelp_Selected_Businesses.xlsx'\u001b[0m\u001b[0;34m,\u001b[0m \u001b[0msheet_name\u001b[0m\u001b[0;34m=\u001b[0m\u001b[0;34m'Biz_id_RESDU'\u001b[0m\u001b[0;34m,\u001b[0m \u001b[0mheader\u001b[0m\u001b[0;34m=\u001b[0m\u001b[0;36m2\u001b[0m\u001b[0;34m)\u001b[0m\u001b[0;34m\u001b[0m\u001b[0;34m\u001b[0m\u001b[0m\n\u001b[1;32m      3\u001b[0m \u001b[0mdf\u001b[0m\u001b[0;34m.\u001b[0m\u001b[0mhead\u001b[0m\u001b[0;34m(\u001b[0m\u001b[0;34m)\u001b[0m\u001b[0;34m\u001b[0m\u001b[0;34m\u001b[0m\u001b[0m\n\u001b[0;32m----> 4\u001b[0;31m \u001b[0mdf\u001b[0m\u001b[0;34m.\u001b[0m\u001b[0msheet_names\u001b[0m\u001b[0;34m\u001b[0m\u001b[0;34m\u001b[0m\u001b[0m\n\u001b[0m",
      "\u001b[0;32m/opt/conda/envs/learn-env/lib/python3.6/site-packages/pandas/core/generic.py\u001b[0m in \u001b[0;36m__getattr__\u001b[0;34m(self, name)\u001b[0m\n\u001b[1;32m   5177\u001b[0m             \u001b[0;32mif\u001b[0m \u001b[0mself\u001b[0m\u001b[0;34m.\u001b[0m\u001b[0m_info_axis\u001b[0m\u001b[0;34m.\u001b[0m\u001b[0m_can_hold_identifiers_and_holds_name\u001b[0m\u001b[0;34m(\u001b[0m\u001b[0mname\u001b[0m\u001b[0;34m)\u001b[0m\u001b[0;34m:\u001b[0m\u001b[0;34m\u001b[0m\u001b[0;34m\u001b[0m\u001b[0m\n\u001b[1;32m   5178\u001b[0m                 \u001b[0;32mreturn\u001b[0m \u001b[0mself\u001b[0m\u001b[0;34m[\u001b[0m\u001b[0mname\u001b[0m\u001b[0;34m]\u001b[0m\u001b[0;34m\u001b[0m\u001b[0;34m\u001b[0m\u001b[0m\n\u001b[0;32m-> 5179\u001b[0;31m             \u001b[0;32mreturn\u001b[0m \u001b[0mobject\u001b[0m\u001b[0;34m.\u001b[0m\u001b[0m__getattribute__\u001b[0m\u001b[0;34m(\u001b[0m\u001b[0mself\u001b[0m\u001b[0;34m,\u001b[0m \u001b[0mname\u001b[0m\u001b[0;34m)\u001b[0m\u001b[0;34m\u001b[0m\u001b[0;34m\u001b[0m\u001b[0m\n\u001b[0m\u001b[1;32m   5180\u001b[0m \u001b[0;34m\u001b[0m\u001b[0m\n\u001b[1;32m   5181\u001b[0m     \u001b[0;32mdef\u001b[0m \u001b[0m__setattr__\u001b[0m\u001b[0;34m(\u001b[0m\u001b[0mself\u001b[0m\u001b[0;34m,\u001b[0m \u001b[0mname\u001b[0m\u001b[0;34m,\u001b[0m \u001b[0mvalue\u001b[0m\u001b[0;34m)\u001b[0m\u001b[0;34m:\u001b[0m\u001b[0;34m\u001b[0m\u001b[0;34m\u001b[0m\u001b[0m\n",
      "\u001b[0;31mAttributeError\u001b[0m: 'DataFrame' object has no attribute 'sheet_names'"
     ]
    }
   ],
   "source": [
    "# Import a specific sheet of an Excel file\n",
    "df = pd.read_excel('Data/Yelp_Selected_Businesses.xlsx', sheet_name='Biz_id_RESDU', header=2)\n",
    "df.head()\n",
    "df.sheet_names"
   ]
  },
  {
   "cell_type": "markdown",
   "metadata": {},
   "source": [
    "## Loading a Full Workbook and Previewing Sheet Names\n",
    "You can also load an entire excel workbook (which is a collection of spreadsheets) with the `pd.ExcelFile()` function."
   ]
  },
  {
   "cell_type": "code",
   "execution_count": 41,
   "metadata": {},
   "outputs": [
    {
     "data": {
      "text/plain": [
       "['Biz_id_RESDU',\n",
       " 'Biz_id_4JNXU',\n",
       " 'Biz_id_YJ8lj',\n",
       " 'Biz_id_ujHia',\n",
       " 'Biz_id_na4Th']"
      ]
     },
     "execution_count": 41,
     "metadata": {},
     "output_type": "execute_result"
    }
   ],
   "source": [
    "# Import the names of Excel sheets in a workbook\n",
    "workbook = pd.ExcelFile('Data/Yelp_Selected_Businesses.xlsx')\n",
    "workbook.sheet_names"
   ]
  },
  {
   "cell_type": "code",
   "execution_count": 16,
   "metadata": {},
   "outputs": [
    {
     "data": {
      "text/html": [
       "<div>\n",
       "<style scoped>\n",
       "    .dataframe tbody tr th:only-of-type {\n",
       "        vertical-align: middle;\n",
       "    }\n",
       "\n",
       "    .dataframe tbody tr th {\n",
       "        vertical-align: top;\n",
       "    }\n",
       "\n",
       "    .dataframe thead th {\n",
       "        text-align: right;\n",
       "    }\n",
       "</style>\n",
       "<table border=\"1\" class=\"dataframe\">\n",
       "  <thead>\n",
       "    <tr style=\"text-align: right;\">\n",
       "      <th></th>\n",
       "      <th>business_id</th>\n",
       "      <th>cool</th>\n",
       "      <th>date</th>\n",
       "      <th>funny</th>\n",
       "      <th>review_id</th>\n",
       "      <th>stars</th>\n",
       "      <th>text</th>\n",
       "      <th>useful</th>\n",
       "      <th>user_id</th>\n",
       "    </tr>\n",
       "  </thead>\n",
       "  <tbody>\n",
       "    <tr>\n",
       "      <th>0</th>\n",
       "      <td>4JNXUYY8wbaaDmk3BPzlWw</td>\n",
       "      <td>0</td>\n",
       "      <td>2012-06-10</td>\n",
       "      <td>0</td>\n",
       "      <td>wl8BO_I-is-JaMwMW5c_gQ</td>\n",
       "      <td>4</td>\n",
       "      <td>I booked a table here for brunch and it did no...</td>\n",
       "      <td>0</td>\n",
       "      <td>fo4mpUqgXL2mJqALc9AvbA</td>\n",
       "    </tr>\n",
       "    <tr>\n",
       "      <th>1</th>\n",
       "      <td>4JNXUYY8wbaaDmk3BPzlWw</td>\n",
       "      <td>0</td>\n",
       "      <td>2012-01-20</td>\n",
       "      <td>0</td>\n",
       "      <td>cf9RrqHY9eQ9M53OPyXLtg</td>\n",
       "      <td>4</td>\n",
       "      <td>Came here for lunch after a long night of part...</td>\n",
       "      <td>0</td>\n",
       "      <td>TVvTtXwPXsvrg2KJGoOUTg</td>\n",
       "    </tr>\n",
       "    <tr>\n",
       "      <th>2</th>\n",
       "      <td>4JNXUYY8wbaaDmk3BPzlWw</td>\n",
       "      <td>0</td>\n",
       "      <td>2017-05-10</td>\n",
       "      <td>0</td>\n",
       "      <td>BvmhSQ6WFm2Jxu01G8OpdQ</td>\n",
       "      <td>5</td>\n",
       "      <td>Loved the fried goat cheese in tomato sauce al...</td>\n",
       "      <td>0</td>\n",
       "      <td>etbAVunw-4kwr6VTRweZpA</td>\n",
       "    </tr>\n",
       "    <tr>\n",
       "      <th>3</th>\n",
       "      <td>4JNXUYY8wbaaDmk3BPzlWw</td>\n",
       "      <td>0</td>\n",
       "      <td>2014-05-03</td>\n",
       "      <td>0</td>\n",
       "      <td>IoKp9n1489XohTV_-EJ0IQ</td>\n",
       "      <td>5</td>\n",
       "      <td>Love the outdoor atmosphere. Price was right, ...</td>\n",
       "      <td>0</td>\n",
       "      <td>vKXux2Xx3xcicTgYZoR0pg</td>\n",
       "    </tr>\n",
       "    <tr>\n",
       "      <th>4</th>\n",
       "      <td>4JNXUYY8wbaaDmk3BPzlWw</td>\n",
       "      <td>0</td>\n",
       "      <td>2014-06-04</td>\n",
       "      <td>0</td>\n",
       "      <td>7YNmSq7Lb1zi4SUKXaSjfg</td>\n",
       "      <td>5</td>\n",
       "      <td>Best steak in Vegas. Best mashed potatoes in V...</td>\n",
       "      <td>3</td>\n",
       "      <td>e3s1x4LLqfSkRTWDy_-Urg</td>\n",
       "    </tr>\n",
       "  </tbody>\n",
       "</table>\n",
       "</div>"
      ],
      "text/plain": [
       "              business_id  cool        date  funny               review_id  \\\n",
       "0  4JNXUYY8wbaaDmk3BPzlWw     0  2012-06-10      0  wl8BO_I-is-JaMwMW5c_gQ   \n",
       "1  4JNXUYY8wbaaDmk3BPzlWw     0  2012-01-20      0  cf9RrqHY9eQ9M53OPyXLtg   \n",
       "2  4JNXUYY8wbaaDmk3BPzlWw     0  2017-05-10      0  BvmhSQ6WFm2Jxu01G8OpdQ   \n",
       "3  4JNXUYY8wbaaDmk3BPzlWw     0  2014-05-03      0  IoKp9n1489XohTV_-EJ0IQ   \n",
       "4  4JNXUYY8wbaaDmk3BPzlWw     0  2014-06-04      0  7YNmSq7Lb1zi4SUKXaSjfg   \n",
       "\n",
       "   stars                                               text  useful  \\\n",
       "0      4  I booked a table here for brunch and it did no...       0   \n",
       "1      4  Came here for lunch after a long night of part...       0   \n",
       "2      5  Loved the fried goat cheese in tomato sauce al...       0   \n",
       "3      5  Love the outdoor atmosphere. Price was right, ...       0   \n",
       "4      5  Best steak in Vegas. Best mashed potatoes in V...       3   \n",
       "\n",
       "                  user_id  \n",
       "0  fo4mpUqgXL2mJqALc9AvbA  \n",
       "1  TVvTtXwPXsvrg2KJGoOUTg  \n",
       "2  etbAVunw-4kwr6VTRweZpA  \n",
       "3  vKXux2Xx3xcicTgYZoR0pg  \n",
       "4  e3s1x4LLqfSkRTWDy_-Urg  "
      ]
     },
     "execution_count": 16,
     "metadata": {},
     "output_type": "execute_result"
    }
   ],
   "source": [
    "# Import a specific sheet\n",
    "df = workbook.parse(sheet_name=1, header=2)\n",
    "df.head()"
   ]
  },
  {
   "cell_type": "markdown",
   "metadata": {},
   "source": [
    "## Saving Data\n",
    "Once we have data loaded that we may want to export back out, we use the **`.to_csv()`** or **`.to_excel()`** methods of any DataFrame object."
   ]
  },
  {
   "cell_type": "code",
   "execution_count": 17,
   "metadata": {},
   "outputs": [],
   "source": [
    "# Write data to a CSV file \n",
    "# Notice how we have to pass index=False if we do not want it included in our output\n",
    "df.to_csv('NewSavedView.csv', index=False) "
   ]
  },
  {
   "cell_type": "code",
   "execution_count": 18,
   "metadata": {},
   "outputs": [],
   "source": [
    "# Write data to an Excel file \n",
    "df.to_excel('NewSavedView.xlsx')"
   ]
  },
  {
   "cell_type": "markdown",
   "metadata": {
    "collapsed": true
   },
   "source": [
    "## Summary\n",
    "\n",
    "We've spent some time looking into how data importing with Pandas works and some of the methods you can use to manage the import and access of data. In the next lesson, you'll get some hands on practice!"
   ]
  }
 ],
 "metadata": {
  "kernelspec": {
   "display_name": "Python 3",
   "language": "python",
   "name": "python3"
  },
  "language_info": {
   "codemirror_mode": {
    "name": "ipython",
    "version": 3
   },
   "file_extension": ".py",
   "mimetype": "text/x-python",
   "name": "python",
   "nbconvert_exporter": "python",
   "pygments_lexer": "ipython3",
   "version": "3.6.9"
  }
 },
 "nbformat": 4,
 "nbformat_minor": 2
}
